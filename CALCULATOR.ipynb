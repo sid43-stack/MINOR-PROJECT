{
 "cells": [
  {
   "cell_type": "code",
   "execution_count": null,
   "id": "153b6e1d-855a-46ae-b2e3-b3497957d8d7",
   "metadata": {},
   "outputs": [
    {
     "name": "stdout",
     "output_type": "stream",
     "text": [
      "\t\t\t\t\t\t\t Grade calculator\n"
     ]
    }
   ],
   "source": [
    "#grade calculator \n",
    "print('\\t\\t\\t\\t\\t\\t\\t Grade calculator')\n",
    "sum=0\n",
    "for i in range(5):\n",
    "    number=int(input('enter number of subjects'))\n",
    "    sum+=number\n",
    "print('your total number out of 500 is ',sum)\n",
    "if sum>=450:\n",
    "    print('grade is A+')\n",
    "elif 450>sum>400:\n",
    "    print('grade is A')\n",
    "elif 400>sum>350:\n",
    "    print('grade is B+')\n",
    "elif 350>sum>300:\n",
    "    print('grade is B')\n",
    "else:\n",
    "    print('grade is fail')"
   ]
  },
  {
   "cell_type": "code",
   "execution_count": null,
   "id": "625cb1d5-995d-40ff-b303-a0f8a5a1512d",
   "metadata": {},
   "outputs": [],
   "source": []
  }
 ],
 "metadata": {
  "kernelspec": {
   "display_name": "Python [conda env:base] *",
   "language": "python",
   "name": "conda-base-py"
  },
  "language_info": {
   "codemirror_mode": {
    "name": "ipython",
    "version": 3
   },
   "file_extension": ".py",
   "mimetype": "text/x-python",
   "name": "python",
   "nbconvert_exporter": "python",
   "pygments_lexer": "ipython3",
   "version": "3.12.7"
  }
 },
 "nbformat": 4,
 "nbformat_minor": 5
}
